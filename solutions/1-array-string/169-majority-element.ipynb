{
 "cells": [
  {
   "cell_type": "markdown",
   "metadata": {},
   "source": [
    "# 169 Majority Element\n",
    "\n",
    "Given an array nums of size n, return the majority element.\n",
    "\n",
    "The majority element is the element that appears more than [n/2] times. Assume the element always exists.\n",
    "\n",
    "Example 1:\n",
    "\n",
    "Input: nums = [3,2,3]\n",
    "Output: 3\n",
    "\n",
    "Example 2:\n",
    "\n",
    "Input: nums = [2,2,1,1,1,2,2]\n",
    "Output: 2"
   ]
  },
  {
   "cell_type": "markdown",
   "metadata": {},
   "source": [
    "## approach\n",
    "\n",
    "* use the boyer-moore voting algorithm.\n",
    "* step 1 - find candidate with majority\n",
    "* step 2 - check if candidate is majoirty element\n",
    "\n",
    "## time complexity\n",
    "* find candidate - iterate array once. O(n)\n",
    "* confirm candidate - iterate once. O(n)\n",
    "* O(n) + O(n) = O(n)"
   ]
  },
  {
   "cell_type": "code",
   "execution_count": 13,
   "metadata": {},
   "outputs": [],
   "source": [
    "def majority_element(nums):\n",
    "\n",
    "    n = len(nums)\n",
    "\n",
    "    # step 1 - find candidate with majority\n",
    "\n",
    "    votes = 0\n",
    "    candidate = -1\n",
    "\n",
    "    for i in range(n):\n",
    "        if votes == 0:\n",
    "            candidate = nums[i]\n",
    "            votes = 1\n",
    "        else:\n",
    "            if nums[i] == candidate:\n",
    "                votes += 1\n",
    "            else:\n",
    "                votes -= 1\n",
    "    \n",
    "    # step 2 - check if candidate has more than n/2 votes\n",
    "\n",
    "    count = 0 \n",
    "    for i in range(n):\n",
    "        if nums[i] == candidate:\n",
    "            count += 1\n",
    "    \n",
    "    if (count > n // 2):\n",
    "        return candidate\n",
    "    else:\n",
    "        return -1"
   ]
  },
  {
   "cell_type": "code",
   "execution_count": 14,
   "metadata": {},
   "outputs": [
    {
     "data": {
      "text/plain": [
       "3"
      ]
     },
     "execution_count": 14,
     "metadata": {},
     "output_type": "execute_result"
    }
   ],
   "source": [
    "nums = [3,2,3]\n",
    "majority_element(nums)"
   ]
  },
  {
   "cell_type": "code",
   "execution_count": 15,
   "metadata": {},
   "outputs": [
    {
     "data": {
      "text/plain": [
       "2"
      ]
     },
     "execution_count": 15,
     "metadata": {},
     "output_type": "execute_result"
    }
   ],
   "source": [
    "nums = [2,2,1,1,1,2,2]\n",
    "majority_element(nums)"
   ]
  }
 ],
 "metadata": {
  "kernelspec": {
   "display_name": "base",
   "language": "python",
   "name": "python3"
  },
  "language_info": {
   "codemirror_mode": {
    "name": "ipython",
    "version": 3
   },
   "file_extension": ".py",
   "mimetype": "text/x-python",
   "name": "python",
   "nbconvert_exporter": "python",
   "pygments_lexer": "ipython3",
   "version": "3.11.5"
  }
 },
 "nbformat": 4,
 "nbformat_minor": 2
}
