{
 "cells": [
  {
   "cell_type": "markdown",
   "metadata": {},
   "source": [
    "# 209 - Minimum size subarray sum\n",
    "\n",
    "Given an array of positive integers nums and a positive integer target, return the minimal length of a \n",
    "subarray whose sum is greater than or equal to target. If there is no such subarray, return 0 instead.\n",
    "\n",
    "Example 1:\n",
    "\n",
    "Input: target = 7, nums = [2,3,1,2,4,3]\n",
    "Output: 2\n",
    "Explanation: The subarray [4,3] has the minimal length under the problem constraint.\n",
    "\n",
    "Example 2:\n",
    "\n",
    "Input: target = 4, nums = [1,4,4]\n",
    "Output: 1\n",
    "\n",
    "Example 3:\n",
    "\n",
    "Input: target = 11, nums = [1,1,1,1,1,1,1,1]\n",
    "Output: 0"
   ]
  },
  {
   "cell_type": "markdown",
   "metadata": {},
   "source": [
    "# Sliding window technique\n",
    "\n",
    "Initialise 2 ptrs - left and right (both initially at the beginning of the array).\n",
    "Maintain a running sum of elements between the two."
   ]
  },
  {
   "cell_type": "code",
   "execution_count": 5,
   "metadata": {},
   "outputs": [],
   "source": [
    "def minSubArrayLen(target, nums):\n",
    "\n",
    "    # Initialise pointers and variables\n",
    "    left = 0\n",
    "    right = 0\n",
    "    min_length = float('inf')\n",
    "    current_sum = 0\n",
    "\n",
    "    # Loop through the array\n",
    "    while right < len(nums):\n",
    "\n",
    "        # Add the current value to the current sum\n",
    "        current_sum += nums[right]\n",
    "\n",
    "        # If the current sum is greater than or equal to the target\n",
    "        while current_sum >= target:\n",
    "\n",
    "            # Update the minimum length\n",
    "            min_length = min(min_length, right - left + 1)\n",
    "\n",
    "            # Remove the left value from the current sum\n",
    "            current_sum -= nums[left]\n",
    "\n",
    "            # Increment the left pointer\n",
    "            left += 1\n",
    "\n",
    "        # Increment the right pointer\n",
    "        right += 1\n",
    "    \n",
    "    # If the minimum length is still infinity, return 0\n",
    "    if min_length == float('inf'):\n",
    "        return 0\n",
    "    else:\n",
    "        return min_length"
   ]
  },
  {
   "cell_type": "code",
   "execution_count": 6,
   "metadata": {},
   "outputs": [
    {
     "name": "stdout",
     "output_type": "stream",
     "text": [
      "2\n",
      "1\n",
      "0\n"
     ]
    }
   ],
   "source": [
    "print(minSubArrayLen(7, [2,3,1,2,4,3]))  # Output: 2\n",
    "print(minSubArrayLen(4, [1,4,4]))        # Output: 1\n",
    "print(minSubArrayLen(11, [1,1,1,1,1,1,1,1]))  # Output: 0"
   ]
  }
 ],
 "metadata": {
  "kernelspec": {
   "display_name": "base",
   "language": "python",
   "name": "python3"
  },
  "language_info": {
   "codemirror_mode": {
    "name": "ipython",
    "version": 3
   },
   "file_extension": ".py",
   "mimetype": "text/x-python",
   "name": "python",
   "nbconvert_exporter": "python",
   "pygments_lexer": "ipython3",
   "version": "3.11.5"
  }
 },
 "nbformat": 4,
 "nbformat_minor": 2
}
