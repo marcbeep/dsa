{
 "cells": [
  {
   "cell_type": "markdown",
   "metadata": {},
   "source": [
    "# 27 - Remove Element"
   ]
  },
  {
   "cell_type": "markdown",
   "metadata": {},
   "source": [
    "Given an integer array nums and an integer val, remove all occurrences of val in nums in-place. The order of the elements may be changed. Then return the number of elements in nums which are not equal to val.\n",
    "\n",
    "Consider the number of elements in nums which are not equal to val be k, to get accepted, you need to do the following things:\n",
    "\n",
    "Change the array nums such that the first k elements of nums contain the elements which are not equal to val. The remaining elements of nums are not important as well as the size of nums.\n",
    "Return k.\n",
    "\n",
    "Example 1:\n",
    "\n",
    "Input: nums = [3,2,2,3], val = 3\n",
    "Output: 2, nums = [2,2,_,_]\n",
    "Explanation: Your function should return k = 2, with the first two elements of nums being 2.\n",
    "It does not matter what you leave beyond the returned k (hence they are underscores).\n",
    "\n",
    "Example 2:\n",
    "\n",
    "Input: nums = [0,1,2,2,3,0,4,2], val = 2\n",
    "Output: 5, nums = [0,1,4,0,3,_,_,_]\n",
    "Explanation: Your function should return k = 5, with the first five elements of nums containing 0, 0, 1, 3, and 4.\n",
    "Note that the five elements can be returned in any order.\n",
    "It does not matter what you leave beyond the returned k (hence they are underscores)."
   ]
  },
  {
   "cell_type": "code",
   "execution_count": 47,
   "metadata": {},
   "outputs": [],
   "source": [
    "def remove_element(nums, val):\n",
    "    k = 0\n",
    "    for i in nums:\n",
    "        print(f\"i: {i}, val: {val}, equal?: {i==val}\")\n",
    "        if i != val:\n",
    "            nums[k] = i\n",
    "            k+=1\n",
    "    print(nums)\n",
    "    \n",
    "    return k"
   ]
  },
  {
   "cell_type": "markdown",
   "metadata": {},
   "source": [
    "Time complexity: O(n)\n",
    "\n",
    "* I iterate over each element in the array nums once.\n",
    "* For each element, I perform a constant-time operation (comparison and then the assignment).\n",
    "* The solution is efficient and scales linearly with the size of input. This is optimal."
   ]
  },
  {
   "cell_type": "code",
   "execution_count": 48,
   "metadata": {},
   "outputs": [
    {
     "name": "stdout",
     "output_type": "stream",
     "text": [
      "i: 3, val: 3, equal?: True\n",
      "i: 2, val: 3, equal?: False\n",
      "i: 2, val: 3, equal?: False\n",
      "i: 3, val: 3, equal?: True\n",
      "[2, 2, 2, 3]\n",
      "2\n"
     ]
    }
   ],
   "source": [
    "nums = [3,2,2,3]\n",
    "val=3\n",
    "result = remove_element(nums, val)\n",
    "print(result)"
   ]
  },
  {
   "cell_type": "code",
   "execution_count": 49,
   "metadata": {},
   "outputs": [
    {
     "name": "stdout",
     "output_type": "stream",
     "text": [
      "i: 0, val: 2, equal?: False\n",
      "i: 1, val: 2, equal?: False\n",
      "i: 2, val: 2, equal?: True\n",
      "i: 2, val: 2, equal?: True\n",
      "i: 3, val: 2, equal?: False\n",
      "i: 0, val: 2, equal?: False\n",
      "i: 4, val: 2, equal?: False\n",
      "i: 2, val: 2, equal?: True\n",
      "[0, 1, 3, 0, 4, 0, 4, 2]\n",
      "5\n"
     ]
    }
   ],
   "source": [
    "nums = [0,1,2,2,3,0,4,2]\n",
    "val=2\n",
    "result = remove_element(nums, val)\n",
    "print(result)"
   ]
  },
  {
   "cell_type": "code",
   "execution_count": 50,
   "metadata": {},
   "outputs": [
    {
     "name": "stdout",
     "output_type": "stream",
     "text": [
      "i: 1, val: 2, equal?: False\n",
      "i: 2, val: 2, equal?: True\n",
      "i: 3, val: 2, equal?: False\n",
      "i: 4, val: 2, equal?: False\n",
      "i: 5, val: 2, equal?: False\n",
      "i: 6, val: 2, equal?: False\n",
      "i: 7, val: 2, equal?: False\n",
      "i: 8, val: 2, equal?: False\n",
      "i: 9, val: 2, equal?: False\n",
      "[1, 3, 4, 5, 6, 7, 8, 9, 9]\n",
      "8\n"
     ]
    }
   ],
   "source": [
    "nums = [1,2,3,4,5,6,7,8,9]\n",
    "val=2\n",
    "result = remove_element(nums, val)\n",
    "print(result)"
   ]
  }
 ],
 "metadata": {
  "kernelspec": {
   "display_name": "base",
   "language": "python",
   "name": "python3"
  },
  "language_info": {
   "codemirror_mode": {
    "name": "ipython",
    "version": 3
   },
   "file_extension": ".py",
   "mimetype": "text/x-python",
   "name": "python",
   "nbconvert_exporter": "python",
   "pygments_lexer": "ipython3",
   "version": "3.11.5"
  }
 },
 "nbformat": 4,
 "nbformat_minor": 2
}
