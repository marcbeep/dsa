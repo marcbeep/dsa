{
 "cells": [
  {
   "cell_type": "markdown",
   "metadata": {},
   "source": [
    "# heaps\n",
    "\n",
    "create a simple min heap and perform basic operations like insertion and extraction of the min element"
   ]
  },
  {
   "cell_type": "code",
   "execution_count": 3,
   "metadata": {},
   "outputs": [],
   "source": [
    "import heapq\n",
    "\n",
    "class minHeap:\n",
    "    def __init__(self):\n",
    "        self.heap = []\n",
    "\n",
    "    def insert(self, value):\n",
    "        heapq.heappush(self.heap, value)\n",
    "    \n",
    "    def extract_min(self):\n",
    "        if not self.is_empty():\n",
    "            return heapq.heappop(self.heap)\n",
    "        else:\n",
    "            print(\"heap empty\")\n",
    "            return None\n",
    "    def is_empty(self):\n",
    "        return len(self.heap) == 0"
   ]
  },
  {
   "cell_type": "code",
   "execution_count": 4,
   "metadata": {},
   "outputs": [
    {
     "name": "stdout",
     "output_type": "stream",
     "text": [
      "min heap: \n",
      "1\n",
      "2\n",
      "4\n",
      "8\n"
     ]
    }
   ],
   "source": [
    "heap = minHeap()\n",
    "\n",
    "heap.insert(4)\n",
    "heap.insert(2)\n",
    "heap.insert(8)\n",
    "heap.insert(1)\n",
    "\n",
    "print(\"min heap: \")\n",
    "while not heap.is_empty():\n",
    "    min = heap.extract_min()\n",
    "    print(min)"
   ]
  },
  {
   "cell_type": "markdown",
   "metadata": {},
   "source": [
    "## b. top k"
   ]
  },
  {
   "cell_type": "code",
   "execution_count": 5,
   "metadata": {},
   "outputs": [
    {
     "name": "stdout",
     "output_type": "stream",
     "text": [
      "top k elements: [4, 3, 1]\n"
     ]
    }
   ],
   "source": [
    "def top_k(nums, k):\n",
    "    # convert input list to a min heap\n",
    "    min_heap = nums[:k]\n",
    "    heapq.heapify(min_heap)\n",
    "\n",
    "    # iterate through rest\n",
    "    for num in nums[k:]:\n",
    "        # if curr > smaller element\n",
    "        if num > min_heap[0]:\n",
    "            # replace smallest w curr element\n",
    "            heapq.heappop(min_heap)\n",
    "            heapq.heappush(min_heap, num)\n",
    "        \n",
    "        # top k elements now in the min heap\n",
    "        return sorted(min_heap, reverse=True)\n",
    "    \n",
    "nums = [3,1,4,1,5,9,2,6,5,3,5]\n",
    "k = 3\n",
    "\n",
    "top_k_elements = top_k(nums, k)\n",
    "print(f\"top k elements: {top_k_elements}\")"
   ]
  }
 ],
 "metadata": {
  "kernelspec": {
   "display_name": "base",
   "language": "python",
   "name": "python3"
  },
  "language_info": {
   "codemirror_mode": {
    "name": "ipython",
    "version": 3
   },
   "file_extension": ".py",
   "mimetype": "text/x-python",
   "name": "python",
   "nbconvert_exporter": "python",
   "pygments_lexer": "ipython3",
   "version": "3.11.5"
  }
 },
 "nbformat": 4,
 "nbformat_minor": 2
}
