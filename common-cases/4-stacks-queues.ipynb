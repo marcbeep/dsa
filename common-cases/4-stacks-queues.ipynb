{
 "cells": [
  {
   "cell_type": "markdown",
   "metadata": {},
   "source": [
    "# stacks & queues"
   ]
  },
  {
   "cell_type": "markdown",
   "metadata": {},
   "source": [
    "find number of subarrays that fit criteria"
   ]
  },
  {
   "cell_type": "code",
   "execution_count": 19,
   "metadata": {},
   "outputs": [
    {
     "name": "stdout",
     "output_type": "stream",
     "text": [
      "no. subarrs with sum 3: 5\n"
     ]
    }
   ],
   "source": [
    "def count_subarrays(nums, target):\n",
    "    count = 0\n",
    "    curr_sum = 0\n",
    "    sum_freq = {0: 1}\n",
    "\n",
    "    for num in nums:\n",
    "        curr_sum += num\n",
    "        if curr_sum - target in sum_freq:\n",
    "            count += sum_freq[curr_sum - target]\n",
    "        sum_freq[curr_sum] = sum_freq.get(curr_sum, 0) + 1\n",
    "    \n",
    "    return count\n",
    "\n",
    "nums = [1, 2, 3, 0, 1, 2]\n",
    "target = 3\n",
    "result = count_subarrays(nums, target)\n",
    "print(f\"no. subarrs with sum {target}: {result}\")"
   ]
  },
  {
   "cell_type": "markdown",
   "metadata": {},
   "source": [
    "## a. stacks"
   ]
  },
  {
   "cell_type": "code",
   "execution_count": 20,
   "metadata": {},
   "outputs": [],
   "source": [
    "class Stack:\n",
    "    def __init__(self):\n",
    "        self.items = []\n",
    "\n",
    "    def is_empty(self):\n",
    "        return len(self.items) == 0\n",
    "    \n",
    "    def push(self, item):\n",
    "        self.items.append(item)\n",
    "\n",
    "    def pop(self):\n",
    "        if not self.is_empty():\n",
    "            return self.items.pop()\n",
    "        else:\n",
    "            print(\"stack empty\")\n",
    "\n",
    "    def peek(self):\n",
    "        if not self.is_empty():\n",
    "            return self.items[-1]\n",
    "        else:\n",
    "            print(\"stack empty\")\n",
    "        \n",
    "    def size(self):\n",
    "        return len(self.items)"
   ]
  },
  {
   "cell_type": "code",
   "execution_count": 21,
   "metadata": {},
   "outputs": [
    {
     "name": "stdout",
     "output_type": "stream",
     "text": [
      "stack: \n",
      "peek:  4\n",
      "size:  4\n",
      "popped item:  4\n",
      "stack after popping: \n",
      "peek:  3\n",
      "size:  3\n"
     ]
    }
   ],
   "source": [
    "my_stack = Stack()\n",
    "\n",
    "my_stack.push(1)\n",
    "my_stack.push(2)\n",
    "my_stack.push(3)\n",
    "my_stack.push(4)\n",
    "\n",
    "print(\"stack: \")\n",
    "print(\"peek: \", my_stack.peek())\n",
    "print(\"size: \", my_stack.size())\n",
    "\n",
    "popped_item = my_stack.pop()\n",
    "print(\"popped item: \", popped_item)\n",
    "\n",
    "print(\"stack after popping: \")\n",
    "print(\"peek: \", my_stack.peek())\n",
    "print(\"size: \", my_stack.size())"
   ]
  },
  {
   "cell_type": "markdown",
   "metadata": {},
   "source": [
    "## b. string problems"
   ]
  },
  {
   "cell_type": "code",
   "execution_count": 22,
   "metadata": {},
   "outputs": [],
   "source": [
    "def is_balanced(expression):\n",
    "    stack = []\n",
    "    open_br = \"({[\"\n",
    "    close_br = \")}]\"\n",
    "\n",
    "    for char in expression:\n",
    "        if char in open_br:\n",
    "            stack.append(char)\n",
    "        elif char in close_br:\n",
    "            if not stack or open_br[close_br.index(char)] != stack.pop():\n",
    "                return False\n",
    "\n",
    "    return not stack"
   ]
  },
  {
   "cell_type": "code",
   "execution_count": 23,
   "metadata": {},
   "outputs": [
    {
     "name": "stdout",
     "output_type": "stream",
     "text": [
      "balanced\n"
     ]
    }
   ],
   "source": [
    "balanced_str = \"{[()]}\"\n",
    "\n",
    "if is_balanced(balanced_str):\n",
    "    print(\"balanced\")\n",
    "else:\n",
    "    print(\"not balanced\")"
   ]
  },
  {
   "cell_type": "markdown",
   "metadata": {},
   "source": [
    "## c. queues"
   ]
  },
  {
   "cell_type": "code",
   "execution_count": 24,
   "metadata": {},
   "outputs": [],
   "source": [
    "class Queue:\n",
    "    def __init__(self):\n",
    "        self.items = []\n",
    "\n",
    "    def is_empty(self):\n",
    "        return len(self.items) == 0\n",
    "    \n",
    "    def enqueue(self, items):\n",
    "        self.items.append(items)\n",
    "\n",
    "    def dequeue(self):\n",
    "        if not self.is_empty():\n",
    "            return self.items.pop(0)\n",
    "        else:\n",
    "            print(\"queue empty\")\n",
    "\n",
    "    def peek(self):\n",
    "        if not self.is_empty():\n",
    "            return self.items[0]\n",
    "        else:\n",
    "            print(\"queue is empty\")\n",
    "\n",
    "    def size(self):\n",
    "        return len(self.items)"
   ]
  },
  {
   "cell_type": "code",
   "execution_count": 25,
   "metadata": {},
   "outputs": [
    {
     "name": "stdout",
     "output_type": "stream",
     "text": [
      "queue: \n",
      "peek:  1\n",
      "size:  3\n",
      "deq item:  1\n",
      "queue after dequeuing: \n",
      "peek:  2\n",
      "size:  2\n"
     ]
    }
   ],
   "source": [
    "my_q = Queue()\n",
    "my_q.enqueue(1)\n",
    "my_q.enqueue(2)\n",
    "my_q.enqueue(3)\n",
    "\n",
    "print(\"queue: \")\n",
    "print(\"peek: \", my_q.peek())\n",
    "print(\"size: \", my_q.size())\n",
    "\n",
    "dequeued_item = my_q.dequeue()\n",
    "print(\"deq item: \", dequeued_item)\n",
    "\n",
    "print(\"queue after dequeuing: \")\n",
    "print(\"peek: \", my_q.peek())\n",
    "print(\"size: \", my_q.size())"
   ]
  },
  {
   "cell_type": "markdown",
   "metadata": {},
   "source": [
    "## d. monotonic\n",
    "\n",
    "(check if an array is monotonic -> entirely non-increasing or non-decreasing)"
   ]
  },
  {
   "cell_type": "code",
   "execution_count": 26,
   "metadata": {},
   "outputs": [],
   "source": [
    "def is_monotonic(nums):\n",
    "    inc = dec = True\n",
    "\n",
    "    for i in range(1, len(nums)):\n",
    "        if nums[i] > nums[i-1]:\n",
    "            dec = False\n",
    "        elif nums[i] < nums[i-1]:\n",
    "            inc = False\n",
    "\n",
    "    return inc or dec"
   ]
  },
  {
   "cell_type": "code",
   "execution_count": 27,
   "metadata": {},
   "outputs": [
    {
     "name": "stdout",
     "output_type": "stream",
     "text": [
      "True\n",
      "True\n",
      "False\n"
     ]
    }
   ],
   "source": [
    "mono_arr1 = [1,2,2,3]\n",
    "mono_arr2 = [3,2,1,0]\n",
    "arr3 = [1,4,2,5,3]\n",
    "print(is_monotonic(mono_arr1))\n",
    "print(is_monotonic(mono_arr2))\n",
    "print(is_monotonic(arr3))"
   ]
  }
 ],
 "metadata": {
  "kernelspec": {
   "display_name": "base",
   "language": "python",
   "name": "python3"
  },
  "language_info": {
   "codemirror_mode": {
    "name": "ipython",
    "version": 3
   },
   "file_extension": ".py",
   "mimetype": "text/x-python",
   "name": "python",
   "nbconvert_exporter": "python",
   "pygments_lexer": "ipython3",
   "version": "3.11.5"
  }
 },
 "nbformat": 4,
 "nbformat_minor": 2
}
