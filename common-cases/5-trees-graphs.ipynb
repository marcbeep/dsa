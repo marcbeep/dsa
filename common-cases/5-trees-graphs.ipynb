{
 "cells": [
  {
   "cell_type": "markdown",
   "metadata": {},
   "source": [
    "# trees & graphs"
   ]
  },
  {
   "cell_type": "markdown",
   "metadata": {},
   "source": [
    "## a. binary trees\n",
    "\n",
    "in order traversal (left -> root -> right)\n",
    "\n",
    "preorder traversal (root -> left -> right)\n",
    "\n",
    "postorder traversal (left -> right -> root)"
   ]
  },
  {
   "cell_type": "code",
   "execution_count": 35,
   "metadata": {},
   "outputs": [],
   "source": [
    "class TreeNode:\n",
    "    def __init__(self, value):\n",
    "        self.value = value\n",
    "        self.left = None\n",
    "        self.right = None"
   ]
  },
  {
   "cell_type": "code",
   "execution_count": 36,
   "metadata": {},
   "outputs": [],
   "source": [
    "def in_order_traversal(root):\n",
    "    result = []\n",
    "    if root:\n",
    "        result.extend(in_order_traversal(root.left))\n",
    "        result.append(root.value)\n",
    "        result.extend(in_order_traversal(root.right))\n",
    "    return result"
   ]
  },
  {
   "cell_type": "code",
   "execution_count": 37,
   "metadata": {},
   "outputs": [],
   "source": [
    "# const tree\n",
    "\n",
    "root = TreeNode(1)\n",
    "root.left = TreeNode(2)\n",
    "root.right = TreeNode(3)\n",
    "root.left.left = TreeNode(4)\n",
    "root.left.right = TreeNode (5)\n",
    "root.right.left = TreeNode(6)\n",
    "root.right.right = TreeNode(7)"
   ]
  },
  {
   "cell_type": "code",
   "execution_count": 38,
   "metadata": {},
   "outputs": [
    {
     "name": "stdout",
     "output_type": "stream",
     "text": [
      "In order traversal [4, 2, 5, 1, 6, 3, 7]\n"
     ]
    }
   ],
   "source": [
    "print(\"In order traversal\", in_order_traversal(root))\n",
    "# left then root then right"
   ]
  },
  {
   "cell_type": "markdown",
   "metadata": {},
   "source": [
    "## b. binary tree - dfs\n",
    "\n",
    "### recursive"
   ]
  },
  {
   "cell_type": "code",
   "execution_count": 39,
   "metadata": {},
   "outputs": [
    {
     "name": "stdout",
     "output_type": "stream",
     "text": [
      "1\n",
      "2\n",
      "4\n",
      "5\n",
      "3\n",
      "6\n",
      "7\n",
      "dfs recursive:  None\n"
     ]
    }
   ],
   "source": [
    "def dfs_recursive(node):\n",
    "    if node is not None:\n",
    "        print(node.value)\n",
    "        dfs_recursive(node.left)\n",
    "        dfs_recursive(node.right)\n",
    "        \n",
    "print(\"dfs recursive: \", dfs_recursive(root))"
   ]
  },
  {
   "cell_type": "markdown",
   "metadata": {},
   "source": [
    "### iterative"
   ]
  },
  {
   "cell_type": "code",
   "execution_count": 40,
   "metadata": {},
   "outputs": [
    {
     "name": "stdout",
     "output_type": "stream",
     "text": [
      "1\n",
      "2\n",
      "4\n",
      "5\n",
      "3\n",
      "6\n",
      "7\n",
      "dfs iterative:  None\n"
     ]
    }
   ],
   "source": [
    "def dfs_iterative(root):\n",
    "    if not root:\n",
    "        return \n",
    "    stack = [root]\n",
    "\n",
    "    while stack:\n",
    "        current_node = stack.pop()\n",
    "\n",
    "        print(current_node.value)\n",
    "\n",
    "        if current_node.right:\n",
    "            stack.append(current_node.right)\n",
    "\n",
    "        if current_node.left:\n",
    "            stack.append(current_node.left)\n",
    "\n",
    "print(\"dfs iterative: \", dfs_iterative(root))"
   ]
  },
  {
   "cell_type": "markdown",
   "metadata": {},
   "source": [
    "## c. binary tree -bfs"
   ]
  },
  {
   "cell_type": "code",
   "execution_count": 41,
   "metadata": {},
   "outputs": [
    {
     "name": "stdout",
     "output_type": "stream",
     "text": [
      "1\n",
      "2\n",
      "3\n",
      "4\n",
      "5\n",
      "6\n",
      "7\n",
      "bfs:  None\n"
     ]
    }
   ],
   "source": [
    "from collections import deque\n",
    "\n",
    "def bfs(tree_root):\n",
    "    if not tree_root:\n",
    "        return \n",
    "\n",
    "    queue = deque([tree_root])\n",
    "\n",
    "    while queue:\n",
    "        current_node = queue.popleft()\n",
    "\n",
    "        print(current_node.value)\n",
    "\n",
    "        if current_node.left:\n",
    "            queue.append(current_node.left)\n",
    "\n",
    "        if current_node.right:\n",
    "            queue.append(current_node.right)\n",
    "\n",
    "print(\"bfs: \", bfs(root))"
   ]
  },
  {
   "cell_type": "markdown",
   "metadata": {},
   "source": [
    "## d. binary search tree    "
   ]
  },
  {
   "cell_type": "code",
   "execution_count": 42,
   "metadata": {},
   "outputs": [],
   "source": [
    "def insert_bst(root, value):\n",
    "    if not root:\n",
    "        return TreeNode(value)\n",
    "    \n",
    "    if value < root.value:\n",
    "        root.left = insert_bst(root.left, value)\n",
    "    else:\n",
    "        root.right = insert_bst(root.right, value)\n",
    "\n",
    "    return root"
   ]
  },
  {
   "cell_type": "code",
   "execution_count": 43,
   "metadata": {},
   "outputs": [
    {
     "name": "stdout",
     "output_type": "stream",
     "text": [
      "in order traversal of bst:  [1, 2, 3, 4, 5]\n"
     ]
    }
   ],
   "source": [
    "bst_root = None\n",
    "values = [4, 2, 5, 1, 3]\n",
    "\n",
    "for value in values:\n",
    "    bst_root = insert_bst(bst_root, value)\n",
    "\n",
    "print(\"in order traversal of bst: \", in_order_traversal(bst_root))"
   ]
  },
  {
   "cell_type": "markdown",
   "metadata": {},
   "source": [
    "## e. graphs\n",
    "\n",
    "directed graph & perform dfs."
   ]
  },
  {
   "cell_type": "code",
   "execution_count": 44,
   "metadata": {},
   "outputs": [],
   "source": [
    "from collections import defaultdict\n",
    "\n",
    "class Graph:\n",
    "    def __init__(self) -> None:\n",
    "        self.graph = defaultdict(list)\n",
    "    \n",
    "    def add_edge(self, u, v):\n",
    "        self.graph[u].append(v)\n",
    "    \n",
    "    def dfs(self, node, visited):\n",
    "        if node not in visited:\n",
    "            print(node, end=\" \")\n",
    "            visited.add(node)\n",
    "            for neighbour in self.graph[node]:\n",
    "                self.dfs(neighbour, visited)"
   ]
  },
  {
   "cell_type": "code",
   "execution_count": 45,
   "metadata": {},
   "outputs": [
    {
     "name": "stdout",
     "output_type": "stream",
     "text": [
      "dfs starting from node 1: \n",
      "1 2 4 5 3 6 "
     ]
    }
   ],
   "source": [
    "my_graph = Graph()\n",
    "\n",
    "my_graph.add_edge(1, 2)\n",
    "my_graph.add_edge(1, 3)\n",
    "my_graph.add_edge(2, 4)\n",
    "my_graph.add_edge(2, 5)\n",
    "my_graph.add_edge(3, 6)\n",
    "\n",
    "print(\"dfs starting from node 1: \")\n",
    "my_graph.dfs(1, set())"
   ]
  },
  {
   "cell_type": "markdown",
   "metadata": {},
   "source": [
    "### recursive"
   ]
  },
  {
   "cell_type": "code",
   "execution_count": 46,
   "metadata": {},
   "outputs": [
    {
     "name": "stdout",
     "output_type": "stream",
     "text": [
      "dfs recursive: \n",
      "1\n",
      "2\n",
      "4\n",
      "5\n",
      "7\n",
      "3\n",
      "6\n"
     ]
    }
   ],
   "source": [
    "class Graph:\n",
    "    def __init__(self):\n",
    "        self.graph = {}\n",
    "    \n",
    "    def add_edge(self, node, neighbours):\n",
    "        self.graph[node] = neighbours\n",
    "\n",
    "def dfs_recursive(graph, node, visited):\n",
    "    if node not in visited:\n",
    "        print(node)\n",
    "        visited.add(node)\n",
    "        \n",
    "        for neighbour in graph[node]:\n",
    "            dfs_recursive(graph, neighbour, visited)\n",
    "\n",
    "graph = Graph()\n",
    "\n",
    "graph.add_edge(1, [2, 3])\n",
    "graph.add_edge(2, [4, 5])\n",
    "graph.add_edge(3, [6])\n",
    "graph.add_edge(4, [])\n",
    "graph.add_edge(5, [7])\n",
    "graph.add_edge(6, [])\n",
    "graph.add_edge(7, [])\n",
    "\n",
    "visited_set = set()\n",
    "\n",
    "print(\"dfs recursive: \")\n",
    "dfs_recursive(graph.graph, 1, visited_set)"
   ]
  },
  {
   "cell_type": "markdown",
   "metadata": {},
   "source": [
    "### iterative"
   ]
  },
  {
   "cell_type": "code",
   "execution_count": 47,
   "metadata": {},
   "outputs": [
    {
     "name": "stdout",
     "output_type": "stream",
     "text": [
      "1\n",
      "3\n",
      "6\n",
      "2\n",
      "5\n",
      "7\n",
      "4\n",
      "dfs iterative:  None\n"
     ]
    }
   ],
   "source": [
    "def dfs_iterative(graph, start_node):\n",
    "    visited = set()\n",
    "    stack = [start_node]\n",
    "\n",
    "    while stack:\n",
    "        current_node = stack.pop()\n",
    "        if current_node not in visited:\n",
    "            print(current_node)\n",
    "            visited.add(current_node)\n",
    "            stack.extend(neighbour for neighbour in graph[current_node] if neighbour not in visited)\n",
    "\n",
    "graph = Graph()\n",
    "\n",
    "graph.add_edge(1, [2, 3])\n",
    "graph.add_edge(2, [4, 5])\n",
    "graph.add_edge(3, [6])\n",
    "graph.add_edge(4, [])\n",
    "graph.add_edge(5, [7])\n",
    "graph.add_edge(6, [])\n",
    "graph.add_edge(7, [])\n",
    "\n",
    "print('dfs iterative: ', dfs_iterative(graph.graph, 1))"
   ]
  },
  {
   "cell_type": "markdown",
   "metadata": {},
   "source": [
    "### bfs iterative"
   ]
  },
  {
   "cell_type": "code",
   "execution_count": 48,
   "metadata": {},
   "outputs": [
    {
     "name": "stdout",
     "output_type": "stream",
     "text": [
      "bfs iterative: \n",
      "1\n",
      "2\n",
      "3\n",
      "4\n",
      "5\n",
      "6\n",
      "7\n"
     ]
    }
   ],
   "source": [
    "from collections import deque\n",
    "\n",
    "class Graph:\n",
    "    def __init__(self):\n",
    "        self.graph = {}\n",
    "    \n",
    "    def add_edge(self, node, neighbours):\n",
    "        self.graph[node] = neighbours\n",
    "    \n",
    "def bfs(graph, start_node):\n",
    "    visited = set()\n",
    "    queue = deque([start_node])\n",
    "\n",
    "    while queue:\n",
    "        current_node = queue.popleft()\n",
    "        if current_node not in visited:\n",
    "            print(current_node)\n",
    "            visited.add(current_node)\n",
    "            queue.extend(neighbour for neighbour in graph[current_node] if neighbour not in visited)\n",
    "\n",
    "# construct graph \n",
    "\n",
    "graph = Graph()\n",
    "\n",
    "graph.add_edge(1, [2, 3])\n",
    "graph.add_edge(2, [4, 5])\n",
    "graph.add_edge(3, [6])\n",
    "graph.add_edge(4, [])\n",
    "graph.add_edge(5, [7])\n",
    "graph.add_edge(6, [])\n",
    "graph.add_edge(7, [])\n",
    "\n",
    "print(\"bfs iterative: \")\n",
    "bfs(graph.graph, 1)"
   ]
  },
  {
   "cell_type": "markdown",
   "metadata": {},
   "source": [
    "## implicit graphs\n",
    "\n",
    "* they don't store all edges explicitly \n",
    "* edges are defined by a rule or formula\n",
    "\n",
    "in the knight's tour problem on a chess board, the goal is to find a sequence of moves for a knight on a N x N chessboard such that the knight visits every square exactly once."
   ]
  },
  {
   "cell_type": "code",
   "execution_count": 49,
   "metadata": {},
   "outputs": [],
   "source": [
    "def is_valid_move(x, y, board, N):\n",
    "    return 0 <= x < N and 0 <= y < N and board[x][y] == -1"
   ]
  },
  {
   "cell_type": "code",
   "execution_count": 50,
   "metadata": {},
   "outputs": [],
   "source": [
    "def knight_tour(N):\n",
    "    # init board\n",
    "    board = [[-1 for _ in range(N)] for _ in range(N)]\n",
    "\n",
    "    # knight moves\n",
    "    moves = [(2, 1), (1, 2), (-1, 2), (-2, 1),\n",
    "             (-2, -1), (-1, -2), (1, -2), (2, -1)]\n",
    "    \n",
    "    # start tour from top left\n",
    "    board[0][0] = 0\n",
    "\n",
    "    # helper for rec backtracking\n",
    "    def knight_tour_util(x, y, move_count):\n",
    "        if move_count == N * N - 1:\n",
    "            return True\n",
    "        \n",
    "        for move in moves:\n",
    "            next_x, next_y = x + move[0], y + move[1]\n",
    "            if is_valid_move(next_x, next_y, board, N):\n",
    "                board[next_x][next_y] = move_count\n",
    "                if knight_tour_util(next_x, next_y, move_count + 1):\n",
    "                    return True\n",
    "                board[next_x][next_y] = -1 # backtrack if curr move leads to no soln\n",
    "\n",
    "        return False\n",
    "    \n",
    "    # start rec backtracking\n",
    "    if not knight_tour_util(0, 0, 1):\n",
    "        print(\"Soln does not exist\")\n",
    "        return\n",
    "    \n",
    "    # print soln\n",
    "    for row in board:\n",
    "        print(row)"
   ]
  },
  {
   "cell_type": "code",
   "execution_count": 51,
   "metadata": {},
   "outputs": [
    {
     "name": "stdout",
     "output_type": "stream",
     "text": [
      "[0, 5, 10, 21, 18]\n",
      "[9, 22, 19, 4, 11]\n",
      "[14, 1, 6, 17, 20]\n",
      "[23, 8, 15, 12, 3]\n",
      "[-1, 13, 2, 7, 16]\n"
     ]
    }
   ],
   "source": [
    "chessboard_size = 5\n",
    "knight_tour(chessboard_size)"
   ]
  }
 ],
 "metadata": {
  "kernelspec": {
   "display_name": "base",
   "language": "python",
   "name": "python3"
  },
  "language_info": {
   "codemirror_mode": {
    "name": "ipython",
    "version": 3
   },
   "file_extension": ".py",
   "mimetype": "text/x-python",
   "name": "python",
   "nbconvert_exporter": "python",
   "pygments_lexer": "ipython3",
   "version": "3.11.5"
  }
 },
 "nbformat": 4,
 "nbformat_minor": 2
}
