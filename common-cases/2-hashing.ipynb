{
 "cells": [
  {
   "cell_type": "markdown",
   "metadata": {},
   "source": [
    "# hashing"
   ]
  },
  {
   "cell_type": "markdown",
   "metadata": {},
   "source": [
    "## a. basics"
   ]
  },
  {
   "cell_type": "code",
   "execution_count": 4,
   "metadata": {},
   "outputs": [
    {
     "name": "stdout",
     "output_type": "stream",
     "text": [
      "first non repeating character in programming is: p\n"
     ]
    }
   ],
   "source": [
    "def first_non_repeating_char(s):\n",
    "    char_count = {}\n",
    "\n",
    "    # count the occurrences of each character\n",
    "    for char in s:\n",
    "        char_count[char] = char_count.get(char, 0) + 1\n",
    "\n",
    "    # find the first non repeating character\n",
    "    for char in s:\n",
    "        if char_count[char] == 1:\n",
    "            return char\n",
    "\n",
    "    return None\n",
    "\n",
    "\n",
    "# usage\n",
    "input_str = \"programming\"\n",
    "result = first_non_repeating_char(input_str)\n",
    "\n",
    "if result:\n",
    "    print(f\"first non repeating character in {input_str} is: {result}\")\n",
    "else:\n",
    "    print(f\"no non repeating character in {input_str}\")"
   ]
  },
  {
   "cell_type": "markdown",
   "metadata": {},
   "source": [
    "## b. check for existence"
   ]
  },
  {
   "cell_type": "code",
   "execution_count": 5,
   "metadata": {},
   "outputs": [
    {
     "name": "stdout",
     "output_type": "stream",
     "text": [
      "duplicates true\n"
     ]
    }
   ],
   "source": [
    "def has_duplicates(nums):\n",
    "    seen = set()\n",
    "\n",
    "    for num in nums:\n",
    "        if num in seen:\n",
    "            return True\n",
    "        seen.add(num)\n",
    "\n",
    "    return False\n",
    "\n",
    "\n",
    "# usage\n",
    "numbers = [1, 2, 3, 4, 5, 1]\n",
    "if has_duplicates(numbers):\n",
    "    print(\"duplicates true\")\n",
    "else:\n",
    "    print(\"duplicates false\")"
   ]
  },
  {
   "cell_type": "markdown",
   "metadata": {},
   "source": [
    "## c. counting"
   ]
  },
  {
   "cell_type": "code",
   "execution_count": 6,
   "metadata": {},
   "outputs": [
    {
     "name": "stdout",
     "output_type": "stream",
     "text": [
      "element counts: \n",
      "1:2\n",
      "2:3\n",
      "3:2\n",
      "4:2\n",
      "5:1\n"
     ]
    }
   ],
   "source": [
    "def count_elements(nums):\n",
    "    element_count = {}\n",
    "\n",
    "    # count the occurrences of each element\n",
    "    for num in nums:\n",
    "        element_count[num] = element_count.get(num, 0) + 1\n",
    "\n",
    "    return element_count\n",
    "\n",
    "\n",
    "# usage\n",
    "numbers = [1, 2, 3, 4, 1, 2, 2, 3, 4, 5]\n",
    "result = count_elements(numbers)\n",
    "print(\"element counts: \")\n",
    "for num, count in result.items():\n",
    "    print(f\"{num}:{count}\")"
   ]
  }
 ],
 "metadata": {
  "kernelspec": {
   "display_name": "base",
   "language": "python",
   "name": "python3"
  },
  "language_info": {
   "codemirror_mode": {
    "name": "ipython",
    "version": 3
   },
   "file_extension": ".py",
   "mimetype": "text/x-python",
   "name": "python",
   "nbconvert_exporter": "python",
   "pygments_lexer": "ipython3",
   "version": "3.11.5"
  }
 },
 "nbformat": 4,
 "nbformat_minor": 2
}
