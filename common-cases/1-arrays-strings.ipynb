{
 "cells": [
  {
   "cell_type": "markdown",
   "metadata": {},
   "source": [
    "# arrays & strings"
   ]
  },
  {
   "cell_type": "markdown",
   "metadata": {},
   "source": [
    "## a. basics"
   ]
  },
  {
   "cell_type": "code",
   "execution_count": 19,
   "metadata": {},
   "outputs": [
    {
     "name": "stdout",
     "output_type": "stream",
     "text": [
      "Inefficient:  helloworld!\n",
      "Efficient:  helloworld!\n"
     ]
    }
   ],
   "source": [
    "words = [\"hello\", \"world\", \"!\"]\n",
    "\n",
    "# inefficient\n",
    "result_inef = \"\"\n",
    "for word in words:\n",
    "    result_inef += word\n",
    "\n",
    "# efficient\n",
    "result_eff = \"\".join(words)\n",
    "\n",
    "print(\"Inefficient: \", result_inef)\n",
    "print(\"Efficient: \", result_eff)"
   ]
  },
  {
   "cell_type": "markdown",
   "metadata": {},
   "source": [
    "## b. two pointers\n",
    "\n",
    "one input, opposite ends"
   ]
  },
  {
   "cell_type": "code",
   "execution_count": 20,
   "metadata": {},
   "outputs": [
    {
     "name": "stdout",
     "output_type": "stream",
     "text": [
      "Pair with sum 9: [-2, 11]\n"
     ]
    }
   ],
   "source": [
    "def two_sum_sorted(sorted_arr, target):\n",
    "    left, right = 0, len(sorted_arr) - 1\n",
    "\n",
    "    while left < right:\n",
    "        curr_sum = sorted_arr[left] + sorted_arr[right]\n",
    "\n",
    "        if curr_sum == target:\n",
    "            return [sorted_arr[left], sorted_arr[right]]\n",
    "        elif curr_sum < target:\n",
    "            left += 1\n",
    "        else:\n",
    "            right -= 1\n",
    "\n",
    "    return None\n",
    "\n",
    "\n",
    "# example usage\n",
    "sorted_arr = [-2, 1, 2, 4, 7, 11]\n",
    "target_sum = 9\n",
    "\n",
    "result = two_sum_sorted(sorted_arr, target_sum)\n",
    "\n",
    "if result:\n",
    "    print(f\"Pair with sum {target_sum}: {result}\")\n",
    "else:\n",
    "    print(\"No such pair found\")"
   ]
  },
  {
   "cell_type": "markdown",
   "metadata": {},
   "source": [
    "two inputs, exhaust both"
   ]
  },
  {
   "cell_type": "code",
   "execution_count": 21,
   "metadata": {},
   "outputs": [
    {
     "name": "stdout",
     "output_type": "stream",
     "text": [
      "Merged sorted array:  [1, 2, 3, 4, 5, 6, 7, 8]\n"
     ]
    }
   ],
   "source": [
    "def merge_sorted_arrays(arr1, arr2):\n",
    "    result = []\n",
    "    i, j = 0, 0\n",
    "\n",
    "    while i < len(arr1) and j < len(arr2):\n",
    "        if arr1[i] < arr2[j]:\n",
    "            result.append(arr1[i])\n",
    "            i += 1\n",
    "        else:\n",
    "            result.append(arr2[j])\n",
    "            j += 1\n",
    "\n",
    "    # if there are remaining elements in arr1, append them\n",
    "    while i < len(arr1):\n",
    "        result.append(arr1[i])\n",
    "        i += 1\n",
    "\n",
    "    # if there are remaining elements in arr2, append them\n",
    "    while j < len(arr2):\n",
    "        result.append(arr2[j])\n",
    "        j += 1\n",
    "\n",
    "    return result\n",
    "\n",
    "\n",
    "# example usage\n",
    "arr1 = [1, 3, 5, 7]\n",
    "arr2 = [2, 4, 6, 8]\n",
    "\n",
    "merged_array = merge_sorted_arrays(arr1, arr2)\n",
    "print(\"Merged sorted array: \", merged_array)"
   ]
  },
  {
   "cell_type": "markdown",
   "metadata": {},
   "source": [
    "## c. sliding window"
   ]
  },
  {
   "cell_type": "code",
   "execution_count": 22,
   "metadata": {},
   "outputs": [
    {
     "name": "stdout",
     "output_type": "stream",
     "text": [
      "max sum of a subarray of size 3: 21\n"
     ]
    }
   ],
   "source": [
    "def max_sum_subarray(nums, k):\n",
    "    max_sum = float(\"-inf\")\n",
    "    current_sum = 0\n",
    "\n",
    "    # calc sum of first k elements\n",
    "    for i in range(k):\n",
    "        current_sum += nums[i]\n",
    "\n",
    "    # slide the window through the array\n",
    "    for i in range(k, len(nums)):\n",
    "        max_sum = max(max_sum, current_sum)\n",
    "        current_sum += nums[i] - nums[i - k]\n",
    "\n",
    "    # check sum of the last window\n",
    "    max_sum = max(max_sum, current_sum)\n",
    "\n",
    "    return max_sum\n",
    "\n",
    "\n",
    "# usage\n",
    "nums = [1, 4, 2, 10, 2, 3, 1, 0, 20]\n",
    "k = 3\n",
    "\n",
    "result = max_sum_subarray(nums, k)\n",
    "print(f\"max sum of a subarray of size {k}: {result}\")"
   ]
  },
  {
   "cell_type": "markdown",
   "metadata": {},
   "source": [
    "## d. prefix sum"
   ]
  },
  {
   "cell_type": "code",
   "execution_count": 23,
   "metadata": {},
   "outputs": [
    {
     "name": "stdout",
     "output_type": "stream",
     "text": [
      "subarray with taget sum 12: [2, 10]\n"
     ]
    }
   ],
   "source": [
    "def subarray_with_target_sums(nums, target):\n",
    "    prefix_sum = [0] * (len(nums) + 1)\n",
    "\n",
    "    # calc prefix sum\n",
    "    for i in range(1, len(nums) + 1):\n",
    "        prefix_sum[i] = prefix_sum[i - 1] + nums[i - 1]\n",
    "\n",
    "    # find the subarray with the target sum\n",
    "    for start in range(len(nums)):\n",
    "        for end in range(start + 1, len(nums) + 1):\n",
    "            current_sum = prefix_sum[end] - prefix_sum[start]\n",
    "            if current_sum == target:\n",
    "                return nums[start:end]\n",
    "\n",
    "    return None\n",
    "\n",
    "\n",
    "# usage\n",
    "nums = [1, 4, 2, 10, 2, 3, 1, 0, 20]\n",
    "target_sum = 12\n",
    "\n",
    "result = subarray_with_target_sums(nums, target_sum)\n",
    "print(f\"subarray with taget sum {target_sum}: {result}\")"
   ]
  },
  {
   "cell_type": "markdown",
   "metadata": {},
   "source": [
    "prefix sum build"
   ]
  },
  {
   "cell_type": "code",
   "execution_count": 24,
   "metadata": {},
   "outputs": [
    {
     "name": "stdout",
     "output_type": "stream",
     "text": [
      "prefix sum array:  [0, 1, 5, 7, 17, 19, 22, 23, 23, 43]\n"
     ]
    }
   ],
   "source": [
    "def build_prefix_sum(nums):\n",
    "    prefix_sum = [0] * (len(nums) + 1)\n",
    "\n",
    "    for i in range(1, len(nums) + 1):\n",
    "        prefix_sum[i] = prefix_sum[i - 1] + nums[i - 1]\n",
    "\n",
    "    return prefix_sum\n",
    "\n",
    "\n",
    "# usage\n",
    "nums = [1, 4, 2, 10, 2, 3, 1, 0, 20]\n",
    "\n",
    "prefix_sum_array = build_prefix_sum(nums)\n",
    "print(f\"prefix sum array: \", prefix_sum_array)"
   ]
  }
 ],
 "metadata": {
  "kernelspec": {
   "display_name": "base",
   "language": "python",
   "name": "python3"
  },
  "language_info": {
   "codemirror_mode": {
    "name": "ipython",
    "version": 3
   },
   "file_extension": ".py",
   "mimetype": "text/x-python",
   "name": "python",
   "nbconvert_exporter": "python",
   "pygments_lexer": "ipython3",
   "version": "3.11.5"
  }
 },
 "nbformat": 4,
 "nbformat_minor": 2
}
